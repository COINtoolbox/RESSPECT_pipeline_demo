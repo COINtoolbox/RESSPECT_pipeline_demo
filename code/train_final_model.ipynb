{
 "cells": [
  {
   "cell_type": "code",
   "execution_count": 1,
   "id": "b5d1bd2e-b0a9-4888-9141-65e6134aa162",
   "metadata": {
    "tags": []
   },
   "outputs": [],
   "source": [
    "# Copyright 2023 resspect software\n",
    "# Author: Emille E. O. Ishida\n",
    "#\n",
    "# created on 2 March 2023\n",
    "#\n",
    "# Licensed MIT License;\n",
    "# you may not use this file except in compliance with the License.\n",
    "# You may obtain a copy of the License at\n",
    "#\n",
    "#     https://opensource.org/license/mit/\n",
    "#\n",
    "# Unless required by applicable law or agreed to in writing, software\n",
    "# distributed under the License is distributed on an \"AS IS\" BASIS,\n",
    "# WITHOUT WARRANTIES OR CONDITIONS OF ANY KIND, either express or implied.\n",
    "# See the License for the specific language governing permissions and\n",
    "# limitations under the License."
   ]
  },
  {
   "cell_type": "code",
   "execution_count": 2,
   "id": "b618b1f2-0dcc-4cc7-a2a5-fe9c10884622",
   "metadata": {
    "tags": []
   },
   "outputs": [],
   "source": [
    "import pandas as pd\n",
    "import numpy as np\n",
    "from sklearn.ensemble import RandomForestClassifier\n",
    "from resspect import get_snpcc_metric"
   ]
  },
  {
   "cell_type": "code",
   "execution_count": 3,
   "id": "b8ea4766-56e1-4c7b-ac76-a8a69f981215",
   "metadata": {
    "tags": []
   },
   "outputs": [],
   "source": [
    "# user input\n",
    "strategy = 'RandomSampling'\n",
    "train = 20\n",
    "batch = 1"
   ]
  },
  {
   "cell_type": "code",
   "execution_count": 4,
   "id": "dcd60178-dd7d-4e41-9ef2-4f461a807196",
   "metadata": {
    "tags": []
   },
   "outputs": [],
   "source": [
    "# read queried objects\n",
    "if strategy == 'RandomSampling':\n",
    "    fname_queried = '/media/RESSPECT/data/PLAsTiCC/for_pipeline/DDF/learn_loop_results/' + \\\n",
    "                    'queried/' + strategy + '/queried_' + strategy + '_' + str(train) + '_batch' + str(batch) + '.csv'\n",
    "    \n",
    "else:\n",
    "    fname_queried = '/media/RESSPECT/data/PLAsTiCC/for_pipeline/DDF/learn_loop_results/' + \\\n",
    "                    'queried/' + strategy + '/queried_' + strategy + '_' + str(train) + '_batch' + str(batch) + '.csv'\n",
    "\n",
    "data_queried = pd.read_csv(fname_queried)\n",
    "\n",
    "# make sure to get features corresponding to full light curves\n",
    "fname_pool = '/media/RESSPECT/data/PLAsTiCC/for_pipeline/DDF/features/PLAsTiCC_Bazin_pool.csv'\n",
    "features_pool = pd.read_csv(fname_pool)\n",
    "\n",
    "flag_queried = np.array([item in data_queried['id'].values for item in features_pool['id'].values])\n",
    "data_train = features_pool[flag_queried]\n",
    "train_labels = data_train['type'].values =='Ia'\n",
    "\n",
    "# read validation sample\n",
    "data_validation = pd.read_csv('/media/RESSPECT/data/PLAsTiCC/for_pipeline/DDF/features/PLAsTiCC_Bazin_validation.csv')\n",
    "validation_labels = data_validation['type'].values == 'Ia'"
   ]
  },
  {
   "cell_type": "code",
   "execution_count": 5,
   "id": "40b9133d-1f4d-4216-9ac3-2f11f3b74913",
   "metadata": {
    "tags": []
   },
   "outputs": [
    {
     "data": {
      "text/plain": [
       "(957, 41)"
      ]
     },
     "execution_count": 5,
     "metadata": {},
     "output_type": "execute_result"
    }
   ],
   "source": [
    "data_queried.shape"
   ]
  },
  {
   "cell_type": "code",
   "execution_count": 6,
   "id": "2986efab-f411-40d2-adf3-1da989ccea43",
   "metadata": {
    "tags": []
   },
   "outputs": [
    {
     "data": {
      "text/plain": [
       "(957,)"
      ]
     },
     "execution_count": 6,
     "metadata": {},
     "output_type": "execute_result"
    }
   ],
   "source": [
    "np.unique(data_queried['day'].values).shape"
   ]
  },
  {
   "cell_type": "code",
   "execution_count": 7,
   "id": "f102a90c-e84a-4359-8f0c-9cae52d453f6",
   "metadata": {
    "tags": []
   },
   "outputs": [
    {
     "data": {
      "text/plain": [
       "(2045, 35)"
      ]
     },
     "execution_count": 7,
     "metadata": {},
     "output_type": "execute_result"
    }
   ],
   "source": [
    "data_validation.shape"
   ]
  },
  {
   "cell_type": "code",
   "execution_count": 8,
   "id": "7540289e-9212-465e-a120-95b4c0442fc6",
   "metadata": {
    "tags": []
   },
   "outputs": [],
   "source": [
    "# train classifier\n",
    "clf = RandomForestClassifier(n_estimators=1000)\n",
    "clf.fit(data_train.values[:,5:], train_labels) \n",
    "predictions = clf.predict(data_validation.values[:,5:])               "
   ]
  },
  {
   "cell_type": "code",
   "execution_count": 9,
   "id": "9d2ebaed-26e7-440b-9b4d-ddbb96eb4e03",
   "metadata": {
    "tags": []
   },
   "outputs": [
    {
     "data": {
      "text/plain": [
       "1020"
      ]
     },
     "execution_count": 9,
     "metadata": {},
     "output_type": "execute_result"
    }
   ],
   "source": [
    "sum(predictions)"
   ]
  },
  {
   "cell_type": "code",
   "execution_count": 10,
   "id": "48ef1655-1de0-4aef-b7d9-68bb27a9c5be",
   "metadata": {
    "tags": []
   },
   "outputs": [
    {
     "data": {
      "text/plain": [
       "(['accuracy', 'efficiency', 'purity', 'fom'],\n",
       " [0.6420537897310513,\n",
       "  0.5836236933797909,\n",
       "  0.9852941176470589,\n",
       "  0.5586112493777999])"
      ]
     },
     "execution_count": 10,
     "metadata": {},
     "output_type": "execute_result"
    }
   ],
   "source": [
    "get_snpcc_metric(predictions, validation_labels)"
   ]
  },
  {
   "cell_type": "code",
   "execution_count": 11,
   "id": "6ca971f4-134d-4338-bea9-4e00c45908dd",
   "metadata": {
    "tags": []
   },
   "outputs": [],
   "source": [
    "# save sample for cosmology\n",
    "fname_fitres = '/media/RESSPECT/data/PLAsTiCC/for_pipeline/DDF/initial_samples/DDF_validation_fitres.csv'\n",
    "data_fitres = pd.read_csv(fname_fitres, comment='#')\n",
    "\n",
    "photo_ia_flag = np.array([item in data_validation[predictions]['id'].values for item in data_fitres['CID'].values])\n",
    "data_photo_ia = data_fitres[photo_ia_flag]"
   ]
  },
  {
   "cell_type": "code",
   "execution_count": 12,
   "id": "e7c36aaa-2adc-4dda-ba59-afd6c69ed3de",
   "metadata": {
    "tags": []
   },
   "outputs": [
    {
     "data": {
      "text/plain": [
       "(1020, 111)"
      ]
     },
     "execution_count": 12,
     "metadata": {},
     "output_type": "execute_result"
    }
   ],
   "source": [
    "data_photo_ia.shape"
   ]
  },
  {
   "cell_type": "code",
   "execution_count": 13,
   "id": "b4163ee4-e0ea-4596-b6f4-25e2d265d65c",
   "metadata": {
    "tags": []
   },
   "outputs": [],
   "source": [
    "data_photo_ia.to_csv('/media/RESSPECT/data/PLAsTiCC/for_pipeline/DDF/learn_loop_results/' + \\\n",
    "                     'cosmo_samples/' + strategy + '_' + str(train) + '_batch' + str(batch) + '.csv')"
   ]
  },
  {
   "cell_type": "code",
   "execution_count": null,
   "id": "fa53826a-8ef6-4294-8dac-03010f1c23d3",
   "metadata": {},
   "outputs": [],
   "source": []
  }
 ],
 "metadata": {
  "kernelspec": {
   "display_name": "Python 3 (ipykernel)",
   "language": "python",
   "name": "python3"
  },
  "language_info": {
   "codemirror_mode": {
    "name": "ipython",
    "version": 3
   },
   "file_extension": ".py",
   "mimetype": "text/x-python",
   "name": "python",
   "nbconvert_exporter": "python",
   "pygments_lexer": "ipython3",
   "version": "3.10.10"
  }
 },
 "nbformat": 4,
 "nbformat_minor": 5
}
