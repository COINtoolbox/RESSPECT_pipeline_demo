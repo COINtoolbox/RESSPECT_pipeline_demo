{
 "cells": [
  {
   "cell_type": "markdown",
   "id": "65847c57-d97d-4418-82f2-6506883611bc",
   "metadata": {
    "tags": []
   },
   "source": [
    "Before anything, fit all PLAsTiCC data with SALT2 to see what survives, using the [script from the metrics paper](https://github.com/COINtoolbox/RESSPECT_metric/blob/main/code/01_SALT2_fit.py)."
   ]
  },
  {
   "cell_type": "code",
   "execution_count": 1,
   "id": "3d198012-9e42-4419-8233-23a71effe0a2",
   "metadata": {
    "tags": []
   },
   "outputs": [],
   "source": [
    "import pandas as pd\n",
    "import numpy as np\n",
    "import os\n",
    "import glob"
   ]
  },
  {
   "cell_type": "markdown",
   "id": "b62b71cb-96d1-4eef-82ac-c64ee4c1dd46",
   "metadata": {},
   "source": [
    "# Read SALT2 fit results"
   ]
  },
  {
   "cell_type": "code",
   "execution_count": 2,
   "id": "d5b0a9e2-d42b-4f31-8405-82773b789e85",
   "metadata": {
    "tags": []
   },
   "outputs": [],
   "source": [
    "# choose between DDF or WFD\n",
    "subsample = 'DDF'\n",
    "\n",
    "# path to SALT2 fit results\n",
    "input_dir = '/media/RESSPECT/data/PLAsTiCC/for_metrics/final_data3/' + subsample + '/SALT2_fit/'\n",
    "\n",
    "# list all available types\n",
    "type_list = os.listdir(input_dir)\n",
    "\n",
    "fitres_list = []\n",
    "\n",
    "for name in type_list:\n",
    "    \n",
    "    flist = glob.glob(input_dir + name + '/fitres/master_fitres_*.fitres')\n",
    "    \n",
    "    for fname in flist:\n",
    "        try:\n",
    "            fitres_temp = pd.read_csv(fname, delim_whitespace=True, comment='#')\n",
    "            fitres_list.append(fitres_temp)\n",
    "        except ValueError:\n",
    "            pass\n",
    "        \n",
    "fitres_all = pd.concat(fitres_list, ignore_index=True)"
   ]
  },
  {
   "cell_type": "code",
   "execution_count": 3,
   "id": "792f7db8-5776-4642-932a-33d172178299",
   "metadata": {
    "tags": []
   },
   "outputs": [
    {
     "data": {
      "text/plain": [
       "(10228, 111)"
      ]
     },
     "execution_count": 3,
     "metadata": {},
     "output_type": "execute_result"
    }
   ],
   "source": [
    "fitres_all.shape"
   ]
  },
  {
   "cell_type": "markdown",
   "id": "f25ca934-700e-49ff-bb73-e641cc79b1b2",
   "metadata": {},
   "source": [
    "Read all test metadata and confirm that all objects surviving SALT2 are on test"
   ]
  },
  {
   "cell_type": "code",
   "execution_count": 4,
   "id": "f7d09d6c-4777-4460-b8d1-7e87fa74f2d2",
   "metadata": {
    "tags": []
   },
   "outputs": [],
   "source": [
    "# read PLAsTiCC test\n",
    "fname_test = '/media/RESSPECT/data/PLAsTiCC/PLAsTiCC_zenodo/plasticc_test_metadata.csv'\n",
    "zenodo_test = pd.read_csv(fname_test)"
   ]
  },
  {
   "cell_type": "code",
   "execution_count": 5,
   "id": "4381566b-7c6f-4fba-b8e2-6fcd2f1ea24d",
   "metadata": {
    "tags": []
   },
   "outputs": [
    {
     "data": {
      "text/plain": [
       "10228"
      ]
     },
     "execution_count": 5,
     "metadata": {},
     "output_type": "execute_result"
    }
   ],
   "source": [
    "flag_fitres = [item in zenodo_test['object_id'].values for item in fitres_all['CID'].values]\n",
    "sum(flag_fitres)"
   ]
  },
  {
   "cell_type": "markdown",
   "id": "e77f61d6-d8e7-4972-8325-5be267603901",
   "metadata": {
    "tags": []
   },
   "source": [
    "### Build validation, test and pool samples\n",
    "\n",
    "- Validation set is used for code development and fine tunning\n",
    "- Test data set is held back through the entire process and only used to produce results for final publication\n",
    "- Pool sample are used to query during the active learning loop"
   ]
  },
  {
   "cell_type": "code",
   "execution_count": 6,
   "id": "6f7298bc-6a44-4157-ac4b-c11b8e4a5738",
   "metadata": {
    "tags": []
   },
   "outputs": [
    {
     "name": "stdout",
     "output_type": "stream",
     "text": [
      " *** Sample sizes *** \n",
      "\n",
      "Survived SALT2:  10228   ( 100 %)\n",
      "    Validation:  2045    ( 19  %)\n",
      "          Test:  2046    ( 20  %)\n",
      "          Pool:  6137    ( 60  %)\n"
     ]
    }
   ],
   "source": [
    "# Set proportions for test and validation samples\n",
    "frac_test_val = 0.2\n",
    "\n",
    "val_test = fitres_all.sample(n= int(2 * frac_test_val * fitres_all.shape[0]), replace=False)\n",
    "validation = val_test.sample(n=int(0.5 * val_test.shape[0]), replace=False)\n",
    "\n",
    "flag_test = np.array([item not in validation['CID'].values for item in val_test['CID'].values])\n",
    "test = val_test[flag_test]\n",
    "\n",
    "flag_pool = np.array([item not in val_test['CID'].values for item in fitres_all['CID'].values])\n",
    "pool = fitres_all[flag_pool]\n",
    "\n",
    "print(' *** Sample sizes *** \\n')\n",
    "print('Survived SALT2: ', fitres_all.shape[0], '  ( 100 %)')\n",
    "print('    Validation: ', validation.shape[0], '   (', int(100 * validation.shape[0]/fitres_all.shape[0]), ' %)')\n",
    "print('          Test: ', test.shape[0], '   (', int(100 * test.shape[0]/fitres_all.shape[0]), ' %)')\n",
    "print('          Pool: ', pool.shape[0], '   (', int(100 * pool.shape[0]/fitres_all.shape[0]), ' %)')"
   ]
  },
  {
   "cell_type": "code",
   "execution_count": 8,
   "id": "3127146f-96af-44a2-ab41-a6eee94a6478",
   "metadata": {
    "tags": []
   },
   "outputs": [],
   "source": [
    "# save ids to file\n",
    "validation.to_csv('/media/RESSPECT/data/PLAsTiCC/for_pipeline/initial_samples/' + \\\n",
    "                  subsample + '_validation_fitres.csv', \n",
    "                  index=False)\n",
    "\n",
    "test.to_csv('/media/RESSPECT/data/PLAsTiCC/for_pipeline/initial_samples/' + \\\n",
    "            subsample +'_test_fitres.csv', \n",
    "            index=False)\n",
    "\n",
    "pool.to_csv('/media/RESSPECT/data/PLAsTiCC/for_pipeline/initial_samples/' + \\\n",
    "            subsample + '_pool_fitres.csv', \n",
    "            index=False)"
   ]
  },
  {
   "cell_type": "code",
   "execution_count": null,
   "id": "d156e6e2-9f15-411a-a57e-d087cc7d2eec",
   "metadata": {},
   "outputs": [],
   "source": []
  }
 ],
 "metadata": {
  "kernelspec": {
   "display_name": "Python 3",
   "language": "python",
   "name": "python3"
  },
  "language_info": {
   "codemirror_mode": {
    "name": "ipython",
    "version": 3
   },
   "file_extension": ".py",
   "mimetype": "text/x-python",
   "name": "python",
   "nbconvert_exporter": "python",
   "pygments_lexer": "ipython3",
   "version": "3.7.1"
  }
 },
 "nbformat": 4,
 "nbformat_minor": 5
}
