{
 "cells": [
  {
   "cell_type": "code",
   "execution_count": 11,
   "metadata": {},
   "outputs": [],
   "source": [
    "# Copyright 2023 resspect software\n",
    "# Author: Emille E. O. Ishida\n",
    "#\n",
    "# created on 17 January 2023\n",
    "#\n",
    "# Licensed MIT License;\n",
    "# you may not use this file except in compliance with the License.\n",
    "# You may obtain a copy of the License at\n",
    "#\n",
    "#     https://opensource.org/license/mit/\n",
    "#\n",
    "# Unless required by applicable law or agreed to in writing, software\n",
    "# distributed under the License is distributed on an \"AS IS\" BASIS,\n",
    "# WITHOUT WARRANTIES OR CONDITIONS OF ANY KIND, either express or implied.\n",
    "# See the License for the specific language governing permissions and\n",
    "# limitations under the License."
   ]
  },
  {
   "cell_type": "code",
   "execution_count": 12,
   "metadata": {},
   "outputs": [],
   "source": [
    "import pandas as pd\n",
    "import numpy as np\n",
    "import progressbar"
   ]
  },
  {
   "cell_type": "code",
   "execution_count": 13,
   "metadata": {},
   "outputs": [],
   "source": [
    "field = 'DDF'"
   ]
  },
  {
   "cell_type": "code",
   "execution_count": 10,
   "metadata": {
    "tags": []
   },
   "outputs": [],
   "source": [
    "# separate relevant training sample\n",
    "fname_train_meta = '/media/RESSPECT/data/PLAsTiCC/PLAsTiCC_zenodo/plasticc_train_metadata.csv'\n",
    "zenodo_train_meta = pd.read_csv(fname_train_meta)\n",
    "\n",
    "field_meta_flag = (field == 'DDF') == zenodo_train_meta['ddf_bool']\n",
    "field_train_meta = zenodo_train_meta[field_meta_flag]\n",
    "field_train_meta.to_csv('/media/RESSPECT/data/PLAsTiCC/for_pipeline/' + \\\n",
    "                         field + '/initial_samples/' + field + '_train_metadata.csv')\n",
    "\n",
    "fname_train_lc = '/media/RESSPECT/data/PLAsTiCC/PLAsTiCC_zenodo/plasticc_train_lightcurves.csv.gz'\n",
    "zenodo_train_lc = pd.read_csv(fname_train_lc)\n",
    "\n",
    "field_lc_flag = np.array([item in field_train_meta['object_id'].values for item in zenodo_train_lc['object_id'].values])\n",
    "field_train_lc = zenodo_train_lc[field_lc_flag]\n",
    "field_train_lc.to_csv('/media/RESSPECT/data/PLAsTiCC/for_pipeline/' + field + '/initial_samples/' + \\\n",
    "                       field + '_train_lightcurves_01.csv')"
   ]
  },
  {
   "cell_type": "code",
   "execution_count": 14,
   "metadata": {},
   "outputs": [],
   "source": [
    "# read zenodo metadata\n",
    "fname_test_meta = '/media/RESSPECT/data/PLAsTiCC/PLAsTiCC_zenodo/plasticc_test_metadata.csv'\n",
    "zenodo_test_meta = pd.read_csv(fname_test_meta)"
   ]
  },
  {
   "cell_type": "code",
   "execution_count": 6,
   "metadata": {},
   "outputs": [],
   "source": [
    "# read validation sample\n",
    "fname_val_fitres = '/media/RESSPECT/data/PLAsTiCC/for_pipeline/' + field + '/initial_samples/' + \\\n",
    "                    field + '_validation_fitres.csv'\n",
    "data_val_fitres = pd.read_csv(fname_val_fitres)\n",
    "val_fitres_ids = data_val_fitres['CID'].values\n",
    "\n",
    "# get metadata for validation sample and save it to file\n",
    "flag_val_meta = np.array([item in val_fitres_ids for item in zenodo_test_meta['object_id'].values])\n",
    "val_meta = zenodo_test_meta[flag_val_meta]\n",
    "val_meta.to_csv('/media/RESSPECT/data/PLAsTiCC/for_pipeline/' + field + '/initial_samples/' + \\\n",
    "                field + '_validation_metadata.csv')"
   ]
  },
  {
   "cell_type": "code",
   "execution_count": 7,
   "metadata": {},
   "outputs": [],
   "source": [
    "# read test sample\n",
    "fname_test_fitres = '/media/RESSPECT/data/PLAsTiCC/for_pipeline/' + field + '/initial_samples/' + \\\n",
    "                    field + '_test_fitres.csv'\n",
    "\n",
    "data_test_fitres = pd.read_csv(fname_test_fitres)\n",
    "test_fitres_ids = data_test_fitres['CID'].values\n",
    "\n",
    "# get metadata for test sample and save it to file\n",
    "flag_test_meta = np.array([item in test_fitres_ids for item in zenodo_test_meta['object_id'].values])\n",
    "test_meta = zenodo_test_meta[flag_test_meta]\n",
    "test_meta.to_csv('/media/RESSPECT/data/PLAsTiCC/for_pipeline/' + field + '/initial_samples/' + \\\n",
    "                field + '_test_metadata.csv')"
   ]
  },
  {
   "cell_type": "code",
   "execution_count": 8,
   "metadata": {},
   "outputs": [],
   "source": [
    "# read pool sample\n",
    "fname_pool_metadata = '/media/RESSPECT/data/PLAsTiCC/for_pipeline/' + \\\n",
    "                      field + '/initial_samples/' + field + '_pool_metadata.csv'\n",
    "data_pool_meta = pd.read_csv(fname_pool_metadata)"
   ]
  },
  {
   "cell_type": "code",
   "execution_count": 9,
   "metadata": {},
   "outputs": [
    {
     "name": "stderr",
     "output_type": "stream",
     "text": [
      "  0% (0 of 11) |                         | Elapsed Time: 0:00:00 ETA:  --:--:--"
     ]
    },
    {
     "name": "stdout",
     "output_type": "stream",
     "text": [
      "Wrote DDF_val_lightcurves01.csv\n",
      "Wrote DDF_test_lightcurves01.csv\n"
     ]
    },
    {
     "name": "stderr",
     "output_type": "stream",
     "text": [
      "  9% (1 of 11) |##                       | Elapsed Time: 0:10:33 ETA:   1:45:37"
     ]
    },
    {
     "name": "stdout",
     "output_type": "stream",
     "text": [
      "Wrote DDF_pool_lightcurves01.csv\n"
     ]
    },
    {
     "name": "stderr",
     "output_type": "stream",
     "text": [
      "100% (11 of 11) |########################| Elapsed Time: 6:57:07 Time:  6:57:07\n"
     ]
    }
   ],
   "source": [
    "# Separate light curves\n",
    "\n",
    "val_lc_list = []\n",
    "test_lc_list = []\n",
    "\n",
    "for i in progressbar.progressbar(range(1, 12)):\n",
    "    fname_lc = '/media/RESSPECT/data/PLAsTiCC/PLAsTiCC_zenodo/plasticc_test_lightcurves_' + \\\n",
    "               str(i).zfill(2) + '.csv.gz'\n",
    "    lc_temp = pd.read_csv(fname_lc)\n",
    "    \n",
    "    flag_val_temp = [item in val_meta['object_id'].values for item in lc_temp['object_id'].values]\n",
    "    \n",
    "    if sum(flag_val_temp) > 0:\n",
    "        val_lc = lc_temp[flag_val_temp]\n",
    "        val_lc.to_csv('/media/RESSPECT/data/PLAsTiCC/for_pipeline/' + field + '/initial_samples/' + \\\n",
    "                field + '_val_lightcurves' + str(i).zfill(2) + '.csv')\n",
    "        print('Wrote ' + field + '_validation_lightcurves_' + str(i).zfill(2) + '.csv')\n",
    "        \n",
    "    flag_test_temp = [item in test_meta['object_id'].values for item in lc_temp['object_id'].values]\n",
    "    \n",
    "    if sum(flag_test_temp) > 0:\n",
    "        test_lc = lc_temp[flag_test_temp]\n",
    "        test_lc.to_csv('/media/RESSPECT/data/PLAsTiCC/for_pipeline/' + field + '/initial_samples/' + \\\n",
    "                field + '_test_lightcurves_' + str(i).zfill(2) + '.csv')  \n",
    "        print('Wrote ' + field + '_test_lightcurves_' + str(i).zfill(2) + '.csv')\n",
    "    \n",
    "    \n",
    "    flag_pool_temp = [item in data_pool_meta['object_id'].values for item in lc_temp['object_id'].values]\n",
    "    \n",
    "    if sum(flag_pool_temp) > 0:\n",
    "        lc_temp[flag_pool_temp].to_csv('/media/RESSPECT/data/PLAsTiCC/for_pipeline/' + field + '/initial_samples/' + \\\n",
    "                field + '_pool_lightcurves_' + str(i).zfill(2) + '.csv')\n",
    "        \n",
    "        print('Wrote ' + field + '_pool_lightcurves_' + str(i).zfill(2) + '.csv')\n",
    "        "
   ]
  }
 ],
 "metadata": {
  "kernelspec": {
   "display_name": "Python 3 (ipykernel)",
   "language": "python",
   "name": "python3"
  },
  "language_info": {
   "codemirror_mode": {
    "name": "ipython",
    "version": 3
   },
   "file_extension": ".py",
   "mimetype": "text/x-python",
   "name": "python",
   "nbconvert_exporter": "python",
   "pygments_lexer": "ipython3",
   "version": "3.10.10"
  }
 },
 "nbformat": 4,
 "nbformat_minor": 4
}
